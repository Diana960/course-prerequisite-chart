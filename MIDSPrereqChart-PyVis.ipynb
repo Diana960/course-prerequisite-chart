{
 "cells": [
  {
   "cell_type": "markdown",
   "metadata": {},
   "source": [
    "## MIDS Prereq Chart Maker\n",
    "This is a notebook for generating a pyvis visualization of the prereq chart."
   ]
  },
  {
   "cell_type": "code",
   "execution_count": 1,
   "metadata": {
    "scrolled": true
   },
   "outputs": [
    {
     "name": "stdout",
     "output_type": "stream",
     "text": [
      "Collecting pyvis\n",
      "  Downloading pyvis-0.1.9-py3-none-any.whl (23 kB)\n",
      "Collecting jsonpickle>=1.4.1\n",
      "  Downloading jsonpickle-2.1.0-py2.py3-none-any.whl (38 kB)\n",
      "Requirement already satisfied: jinja2>=2.9.6 in c:\\users\\diana\\anaconda3\\lib\\site-packages (from pyvis) (2.11.2)\n",
      "Requirement already satisfied: ipython>=5.3.0 in c:\\users\\diana\\anaconda3\\lib\\site-packages (from pyvis) (7.16.1)\n",
      "Requirement already satisfied: networkx>=1.11 in c:\\users\\diana\\anaconda3\\lib\\site-packages (from pyvis) (2.4)\n",
      "Requirement already satisfied: importlib-metadata; python_version < \"3.8\" in c:\\users\\diana\\anaconda3\\lib\\site-packages (from jsonpickle>=1.4.1->pyvis) (1.7.0)\n",
      "Requirement already satisfied: MarkupSafe>=0.23 in c:\\users\\diana\\anaconda3\\lib\\site-packages (from jinja2>=2.9.6->pyvis) (1.1.1)\n",
      "Requirement already satisfied: backcall in c:\\users\\diana\\anaconda3\\lib\\site-packages (from ipython>=5.3.0->pyvis) (0.2.0)\n",
      "Requirement already satisfied: jedi>=0.10 in c:\\users\\diana\\anaconda3\\lib\\site-packages (from ipython>=5.3.0->pyvis) (0.17.1)\n",
      "Requirement already satisfied: pygments in c:\\users\\diana\\anaconda3\\lib\\site-packages (from ipython>=5.3.0->pyvis) (2.6.1)\n",
      "Requirement already satisfied: colorama; sys_platform == \"win32\" in c:\\users\\diana\\anaconda3\\lib\\site-packages (from ipython>=5.3.0->pyvis) (0.4.3)\n",
      "Requirement already satisfied: pickleshare in c:\\users\\diana\\anaconda3\\lib\\site-packages (from ipython>=5.3.0->pyvis) (0.7.5)\n",
      "Requirement already satisfied: setuptools>=18.5 in c:\\users\\diana\\anaconda3\\lib\\site-packages (from ipython>=5.3.0->pyvis) (49.2.0.post20200714)\n",
      "Requirement already satisfied: prompt-toolkit!=3.0.0,!=3.0.1,<3.1.0,>=2.0.0 in c:\\users\\diana\\anaconda3\\lib\\site-packages (from ipython>=5.3.0->pyvis) (3.0.5)\n",
      "Requirement already satisfied: traitlets>=4.2 in c:\\users\\diana\\anaconda3\\lib\\site-packages (from ipython>=5.3.0->pyvis) (4.3.3)\n",
      "Requirement already satisfied: decorator in c:\\users\\diana\\anaconda3\\lib\\site-packages (from ipython>=5.3.0->pyvis) (4.4.2)\n",
      "Requirement already satisfied: zipp>=0.5 in c:\\users\\diana\\anaconda3\\lib\\site-packages (from importlib-metadata; python_version < \"3.8\"->jsonpickle>=1.4.1->pyvis) (3.1.0)\n",
      "Requirement already satisfied: parso<0.8.0,>=0.7.0 in c:\\users\\diana\\anaconda3\\lib\\site-packages (from jedi>=0.10->ipython>=5.3.0->pyvis) (0.7.0)\n",
      "Requirement already satisfied: wcwidth in c:\\users\\diana\\anaconda3\\lib\\site-packages (from prompt-toolkit!=3.0.0,!=3.0.1,<3.1.0,>=2.0.0->ipython>=5.3.0->pyvis) (0.2.5)\n",
      "Requirement already satisfied: six in c:\\users\\diana\\anaconda3\\lib\\site-packages (from traitlets>=4.2->ipython>=5.3.0->pyvis) (1.15.0)\n",
      "Requirement already satisfied: ipython-genutils in c:\\users\\diana\\anaconda3\\lib\\site-packages (from traitlets>=4.2->ipython>=5.3.0->pyvis) (0.2.0)\n",
      "Installing collected packages: jsonpickle, pyvis\n",
      "Successfully installed jsonpickle-2.1.0 pyvis-0.1.9\n"
     ]
    }
   ],
   "source": [
    "!pip install pyvis"
   ]
  },
  {
   "cell_type": "code",
   "execution_count": 1,
   "metadata": {},
   "outputs": [],
   "source": [
    "from graph_tools import GraphVisualization, Node"
   ]
  },
  {
   "cell_type": "code",
   "execution_count": 2,
   "metadata": {},
   "outputs": [
    {
     "name": "stderr",
     "output_type": "stream",
     "text": [
      "A subdirectory or file pyvis_visuals already exists.\n"
     ]
    }
   ],
   "source": [
    "!mkdir pyvis_visuals"
   ]
  },
  {
   "cell_type": "code",
   "execution_count": 3,
   "metadata": {
    "scrolled": false
   },
   "outputs": [
    {
     "data": {
      "text/html": [
       "\n",
       "        <iframe\n",
       "            width=\"1000px\"\n",
       "            height=\"1000px\"\n",
       "            src=\"pyvis_visuals/MIDS Prerequisite Chart.html\"\n",
       "            frameborder=\"0\"\n",
       "            allowfullscreen\n",
       "        ></iframe>\n",
       "        "
      ],
      "text/plain": [
       "<IPython.lib.display.IFrame at 0x24f7f2bfd48>"
      ]
     },
     "execution_count": 3,
     "metadata": {},
     "output_type": "execute_result"
    }
   ],
   "source": [
    "# Define all Course Nodes\n",
    "courses = {\n",
    "    \"W200\": Node(\"W200\", \"core\"),\n",
    "    \"W201\": Node(\"W201\", \"core\"),\n",
    "    \"W203\": Node(\"W203\", \"core\"),\n",
    "    \"W205\": Node(\"W205\", \"core\"),\n",
    "    \"W207\": Node(\"W207\", \"core\"),\n",
    "    \"W209\": Node(\"W209\", \"elective\"),\n",
    "    \"W210\": Node(\"W210\", \"core\"),\n",
    "    \"W231\": Node(\"W231\", \"elective\"),\n",
    "    \"W233\": Node(\"W233\", \"elective\"),\n",
    "    \"W241\": Node(\"W241\", \"elective\"),\n",
    "    \"W251\": Node(\"W251\", \"elective\"),\n",
    "    \"W255\": Node(\"W255\", \"elective\"),\n",
    "    \"W261\": Node(\"W261\", \"elective\"),\n",
    "    \"W266\": Node(\"W266\", \"elective\"),\n",
    "    \"W271\": Node(\"W271\", \"elective\"),\n",
    "    \"W281\": Node(\"W281\", \"elective\")\n",
    "}\n",
    "\n",
    "G = GraphVisualization(edge_colors={\"corequisite\": \"green\", \"prerequisite\": \"black\"}, \n",
    "                       node_colors={\"core\": \"red\", \"elective\": \"blue\"},\n",
    "                       node_name_to_node_dict=courses)\n",
    "G.addCourseRequisites(\"W200\", prereqs=[], coreqs=[])\n",
    "G.addCourseRequisites(\"W207\", prereqs=[\"W201\", \"W203\"], coreqs=[])\n",
    "G.addCourseRequisites(\"W209\", prereqs=[\"W201\", \"W203\"], coreqs=[\"W205\"])\n",
    "G.addCourseRequisites(\"W210\", prereqs=[], coreqs=[]) #prereqs=[201, 203, 205, 207], coreqs=[]\n",
    "G.addCourseRequisites(\"W231\", prereqs=[\"W201\"], coreqs=[])\n",
    "G.addCourseRequisites(\"W233\", prereqs=[\"W201\"], coreqs=[])\n",
    "G.addCourseRequisites(\"W241\", prereqs=[\"W201\", \"W203\"], coreqs=[])\n",
    "G.addCourseRequisites(\"W251\", prereqs=[\"W201\", \"W203\", \"W205\"], coreqs=[])\n",
    "G.addCourseRequisites(\"W255\", prereqs=[\"W201\", \"W205\", \"W207\"], coreqs=[])\n",
    "G.addCourseRequisites(\"W261\", prereqs=[\"W201\", \"W205\", \"W207\"], coreqs=[])\n",
    "G.addCourseRequisites(\"W266\", prereqs=[\"W201\", \"W207\"], coreqs=[])\n",
    "G.addCourseRequisites(\"W271\", prereqs=[\"W201\", \"W203\"], coreqs=[])\n",
    "G.addCourseRequisites(\"W281\", prereqs=[\"W201\", \"W207\"], coreqs=[])\n",
    "G.visualize_pyvis(\"MIDS Prerequisite Chart\")"
   ]
  },
  {
   "cell_type": "code",
   "execution_count": null,
   "metadata": {},
   "outputs": [],
   "source": []
  }
 ],
 "metadata": {
  "kernelspec": {
   "display_name": "Python 3",
   "language": "python",
   "name": "python3"
  },
  "language_info": {
   "codemirror_mode": {
    "name": "ipython",
    "version": 3
   },
   "file_extension": ".py",
   "mimetype": "text/x-python",
   "name": "python",
   "nbconvert_exporter": "python",
   "pygments_lexer": "ipython3",
   "version": "3.7.7"
  }
 },
 "nbformat": 4,
 "nbformat_minor": 4
}
